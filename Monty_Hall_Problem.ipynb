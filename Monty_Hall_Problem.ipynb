{
  "nbformat": 4,
  "nbformat_minor": 0,
  "metadata": {
    "colab": {
      "provenance": [],
      "authorship_tag": "ABX9TyMHZqwkMFP5CN1qG9zyMmY8",
      "include_colab_link": true
    },
    "kernelspec": {
      "name": "python3",
      "display_name": "Python 3"
    },
    "language_info": {
      "name": "python"
    }
  },
  "cells": [
    {
      "cell_type": "markdown",
      "metadata": {
        "id": "view-in-github",
        "colab_type": "text"
      },
      "source": [
        "<a href=\"https://colab.research.google.com/github/AFirooz/bayesian-network-analysis-tools/blob/main/Monty_Hall_Problem.ipynb\" target=\"_parent\"><img src=\"https://colab.research.google.com/assets/colab-badge.svg\" alt=\"Open In Colab\"/></a>"
      ]
    },
    {
      "cell_type": "code",
      "execution_count": 2,
      "metadata": {
        "colab": {
          "base_uri": "https://localhost:8080/"
        },
        "id": "pHd66W0kArNL",
        "outputId": "61782b4f-a496-4438-bd1b-53d3ac5acf49"
      },
      "outputs": [
        {
          "output_type": "stream",
          "name": "stdout",
          "text": [
            "Reading package lists...\n",
            "Building dependency tree...\n",
            "Reading state information...\n",
            "graphviz is already the newest version (2.42.2-6ubuntu0.1).\n",
            "libgraphviz-dev is already the newest version (2.42.2-6ubuntu0.1).\n",
            "0 upgraded, 0 newly installed, 0 to remove and 34 not upgraded.\n"
          ]
        }
      ],
      "source": [
        "# -U: upgrade all\n",
        "# -q: quite install\n",
        "\n",
        "!apt-get install -yq graphviz graphviz-dev\n",
        "!pip install -Uq pgmpy graphviz pygraphviz"
      ]
    },
    {
      "cell_type": "markdown",
      "source": [
        "# Building the Model\n",
        "\n",
        "We'll have the attributes below with states denoting the door number.\n",
        "\n",
        "1. **Contestant:** `C ∈ {1, 2, 3}`\n",
        "2. **Host:** `H ∈ {1, 2, 3}`\n",
        "3. **Prize:** `P ∈ {1, 2, 3}`"
      ],
      "metadata": {
        "id": "wqnl_c7RBOoW"
      }
    },
    {
      "cell_type": "code",
      "source": [
        "from IPython.display import Image\n",
        "from pgmpy.models import DiscreteBayesianNetwork\n",
        "from pgmpy.factors.discrete import TabularCPD\n",
        "\n",
        "\n",
        "# Defining the network structure\n",
        "model = DiscreteBayesianNetwork([\n",
        "    (\"C\", \"H\"),\n",
        "    (\"P\", \"H\")\n",
        "])\n",
        "\n",
        "# Defining the CPDs:\n",
        "cpd_c = TabularCPD(\"C\", 3, [[0.33], [0.33], [0.33]])\n",
        "cpd_p = TabularCPD(\"P\", 3, [[0.33], [0.33], [0.33]])\n",
        "cpd_h = TabularCPD(\"H\", 3,\n",
        "    [[0, 0, 0, 0, 0.5, 1, 0, 1, 0.5],\n",
        "     [0.5, 0, 1, 0, 0, 0, 1, 0, 0.5],\n",
        "     [0.5, 1, 0, 1, 0.5, 0, 0, 0, 0]],\n",
        "    evidence=[\"C\", \"P\"],\n",
        "    evidence_card=[3, 3],\n",
        ")\n",
        "\n",
        "# Associating the CPDs with the network structure.\n",
        "model.add_cpds(cpd_c, cpd_p, cpd_h)\n",
        "\n",
        "# check the model structure and associated CPDs\n",
        "model.check_model()"
      ],
      "metadata": {
        "colab": {
          "base_uri": "https://localhost:8080/"
        },
        "id": "YAeTEwkyAt8p",
        "outputId": "7b33d48f-e7c8-497c-e0e7-66572692bc6b"
      },
      "execution_count": 4,
      "outputs": [
        {
          "output_type": "execute_result",
          "data": {
            "text/plain": [
              "[<TabularCPD representing P(C:3) at 0x796162986cd0>,\n",
              " <TabularCPD representing P(P:3) at 0x796162986c10>,\n",
              " <TabularCPD representing P(H:3 | C:3, P:3) at 0x796162986dd0>]"
            ]
          },
          "metadata": {},
          "execution_count": 4
        }
      ]
    },
    {
      "cell_type": "code",
      "source": [
        "# Some other methods\n",
        "all_cpd = model.get_cpds()\n",
        "\n",
        "for cpd in all_cpd:\n",
        "    print(cpd, '\\n')"
      ],
      "metadata": {
        "colab": {
          "base_uri": "https://localhost:8080/"
        },
        "id": "-1IyUtb4Fa1c",
        "outputId": "2353ba18-9148-4de7-f3f9-59c618d5bd31"
      },
      "execution_count": 6,
      "outputs": [
        {
          "output_type": "stream",
          "name": "stdout",
          "text": [
            "+------+------+\n",
            "| C(0) | 0.33 |\n",
            "+------+------+\n",
            "| C(1) | 0.33 |\n",
            "+------+------+\n",
            "| C(2) | 0.33 |\n",
            "+------+------+ \n",
            "\n",
            "+------+------+\n",
            "| P(0) | 0.33 |\n",
            "+------+------+\n",
            "| P(1) | 0.33 |\n",
            "+------+------+\n",
            "| P(2) | 0.33 |\n",
            "+------+------+ \n",
            "\n",
            "+------+------+------+------+------+------+------+------+------+------+\n",
            "| C    | C(0) | C(0) | C(0) | C(1) | C(1) | C(1) | C(2) | C(2) | C(2) |\n",
            "+------+------+------+------+------+------+------+------+------+------+\n",
            "| P    | P(0) | P(1) | P(2) | P(0) | P(1) | P(2) | P(0) | P(1) | P(2) |\n",
            "+------+------+------+------+------+------+------+------+------+------+\n",
            "| H(0) | 0.0  | 0.0  | 0.0  | 0.0  | 0.5  | 1.0  | 0.0  | 1.0  | 0.5  |\n",
            "+------+------+------+------+------+------+------+------+------+------+\n",
            "| H(1) | 0.5  | 0.0  | 1.0  | 0.0  | 0.0  | 0.0  | 1.0  | 0.0  | 0.5  |\n",
            "+------+------+------+------+------+------+------+------+------+------+\n",
            "| H(2) | 0.5  | 1.0  | 0.0  | 1.0  | 0.5  | 0.0  | 0.0  | 0.0  | 0.0  |\n",
            "+------+------+------+------+------+------+------+------+------+------+ \n",
            "\n"
          ]
        }
      ]
    },
    {
      "cell_type": "markdown",
      "source": [
        "# Infering the Posterior Probability\n"
      ],
      "metadata": {
        "id": "JnOg2rwDFoia"
      }
    },
    {
      "cell_type": "code",
      "source": [
        "from pgmpy.inference import VariableElimination\n",
        "\n",
        "\n",
        "infer = VariableElimination(model)\n",
        "posterior_p = infer.query([\"P\"], evidence={\"C\": 0, \"H\": 2})\n",
        "\n",
        "print(posterior_p)"
      ],
      "metadata": {
        "colab": {
          "base_uri": "https://localhost:8080/"
        },
        "id": "-4OiCCnvFvtB",
        "outputId": "9ffc7706-58de-4868-d5b7-fbfa7baa6e8e"
      },
      "execution_count": 7,
      "outputs": [
        {
          "output_type": "stream",
          "name": "stdout",
          "text": [
            "+------+----------+\n",
            "| P    |   phi(P) |\n",
            "+======+==========+\n",
            "| P(0) |   0.3333 |\n",
            "+------+----------+\n",
            "| P(1) |   0.6667 |\n",
            "+------+----------+\n",
            "| P(2) |   0.0000 |\n",
            "+------+----------+\n"
          ]
        }
      ]
    }
  ]
}